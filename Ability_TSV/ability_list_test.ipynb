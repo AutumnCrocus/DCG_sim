{
 "cells": [
  {
   "cell_type": "code",
   "execution_count": 3,
   "metadata": {},
   "outputs": [
    {
     "name": "stdout",
     "output_type": "stream",
     "text": [
      "{9: 1, 11: 2}\n"
     ]
    }
   ],
   "source": [
    "from card_setting import *\n",
    "creature_fanfare_ability={\\\n",
    "creature_name_to_id[\"Healing Angel\"]:1,\\\n",
    "creature_name_to_id[\"Purehearted Singer\"]:2,\\\n",
    "}\n",
    "print(creature_fanfare_ability)"
   ]
  },
  {
   "cell_type": "code",
   "execution_count": 13,
   "metadata": {},
   "outputs": [],
   "source": [
    "import sys\n",
    "sys.path.append('..')\n",
    "from card_setting import *\n",
    "def ability_list_2_tsv(file_name,ability_list):\n",
    "    with open(file_name,\"w\") as f:\n",
    "        writer = csv.writer(f,delimiter='\\t')\n",
    "        for key in list(ability_list.keys()):\n",
    "            data=[]\n",
    "            data.append(creature_list[key][-1])\n",
    "            data.append(ability_list[key])\n",
    "            writer.writerow(data)\n",
    "            \n",
    "ability_list_2_tsv(\"All_Creature_Fanfare_List.tsv\",creature_fanfare_ability)\n",
    "ability_list_2_tsv(\"All_Creature_Lastword_List.tsv\",creature_lastword_ability)\n",
    "ability_list_2_tsv(\"All_Creature_end-of-turn_List.tsv\",creature_end_of_turn_ability)\n",
    "ability_list_2_tsv(\"All_Creature_start-of-turn_List.tsv\",creature_start_of_turn_ability)\n",
    "ability_list_2_tsv(\"All_Creature_has_target_List.tsv\",creature_has_target)\n"
   ]
  },
  {
   "cell_type": "code",
   "execution_count": 14,
   "metadata": {},
   "outputs": [
    {
     "name": "stdout",
     "output_type": "stream",
     "text": [
      "{'card_id': 1, 'card_category': 'Creature', 'cost': 1, 'origin_cost': 1, 'power': 1, 'toughness': 2, 'buff': [0, 0], 'until_turn_end_buff': [0, 0], 'target_regulation': None, 'player_attack_regulation': None, 'evo_stat': [2, 2], 'ability': [], 'fanfare_ability': None, 'lastword_ability': [], 'have_target': 0, 'evo_effect': None, 'evo_target': None, 'turn_start_ability': [], 'turn_end_ability': [], 'trigger_ability': [], 'name': 'Goblin', 'is_in_field': False, 'is_in_graveyard': False, 'damage': 0, 'is_tapped': True, 'attacked_flg': False, 'evolved': False, 'can_creature_attack': False, 'can_not_be_attacked': False, 'can_not_be_targeted': False, 'can_only_attack_target': None, 'in_battle_ability': [], 'cost_change_ability': None, 'card_class': <LeaderClass.NEUTRAL: 0>, 'trait': <Trait.NONE: -1>, 'is_earth_rite': False, 'have_enhance': False, 'active_enhance_code': [False, 0], 'have_accelerate': False, 'active_accelerate_code': [False, 0]}\n"
     ]
    }
   ],
   "source": [
    "import sys\n",
    "sys.path.append('..')\n",
    "from card_setting import *\n",
    "sample=Creature(1)\n",
    "print(sample.__dict__)"
   ]
  },
  {
   "cell_type": "code",
   "execution_count": null,
   "metadata": {},
   "outputs": [],
   "source": []
  }
 ],
 "metadata": {
  "kernelspec": {
   "display_name": "Python 3",
   "language": "python",
   "name": "python3"
  },
  "language_info": {
   "codemirror_mode": {
    "name": "ipython",
    "version": 3
   },
   "file_extension": ".py",
   "mimetype": "text/x-python",
   "name": "python",
   "nbconvert_exporter": "python",
   "pygments_lexer": "ipython3",
   "version": "3.6.7"
  }
 },
 "nbformat": 4,
 "nbformat_minor": 4
}
