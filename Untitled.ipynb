{
 "cells": [
  {
   "cell_type": "code",
   "execution_count": 1,
   "metadata": {},
   "outputs": [
    {
     "name": "stdout",
     "output_type": "stream",
     "text": [
      "True\n",
      "player 1 's field\n",
      "0 :  name:Trinity Dragon            3/502/502 ability=['CANT_BE_ATTACKED']\u001b[0m\n",
      "1 :  name:Well of Destiny           cost: 2 \u001b[0m\n",
      "2 :  name:Fighter                   2/502/502\u001b[0m\n",
      "\n",
      "\n",
      "player 2 's field\n",
      "\n",
      "\n",
      "player 1 's field\n",
      "0 :  name:Trinity Dragon            3/498/498 ability=['CANT_BE_ATTACKED']\u001b[0m\n",
      "1 :  name:Well of Destiny           cost: 2 \u001b[0m\n",
      "2 :  name:Fighter                   2/506/506\u001b[0m\n",
      "\n",
      "\n",
      "player 2 's field\n",
      "\n",
      "\n"
     ]
    }
   ],
   "source": [
    "import Field_setting\n",
    "from card_setting import *\n",
    "from Player_setting import *\n",
    "field1 = Field_setting.Field(5)\n",
    "field2 = Field_setting.Field(5)\n",
    "#print(\"{}\".format(creature_list))\n",
    "card1 = Creature(30)\n",
    "card2 = Creature(30)\n",
    "card3 = Amulet(1)\n",
    "card4 = Amulet(1)\n",
    "card5 = Creature(2)\n",
    "card6 = Creature(2)\n",
    "player1 = Player(9,first=True)\n",
    "opponent1 = Player(9,first=False)\n",
    "player2 = Player(9,first=True)\n",
    "opponent2 = Player(9,first=False)\n",
    "field1.players=[player1,opponent1]\n",
    "field2.players=[player2,opponent2]\n",
    "print(card1.__eq__(card2))\n",
    "#print(\"{}\\n{}\".format(card1,card2))\n",
    "field1.set_card(card1, 0, virtual=False)\n",
    "field2.set_card(card2, 0, virtual=False)\n",
    "field1.set_card(card3, 0, virtual=False)\n",
    "field2.set_card(card4, 0, virtual=False)\n",
    "field1.set_card(card5, 0, virtual=False)\n",
    "field2.set_card(card6, 0, virtual=False)\n",
    "\n",
    "#card1.power+=1\n",
    "for i in range(1000):\n",
    "    field1.start_of_turn(0,virtual=True)\n",
    "    field2.start_of_turn(0,virtual=True)\n",
    "field1.show_field()\n",
    "field2.show_field()\n"
   ]
  },
  {
   "cell_type": "code",
   "execution_count": 22,
   "metadata": {},
   "outputs": [
    {
     "name": "stdout",
     "output_type": "stream",
     "text": [
      "type: <class 'card_setting.Creature'>,<class 'card_setting.Creature'>\n",
      "diff power\n"
     ]
    },
    {
     "data": {
      "text/plain": [
       "False"
      ]
     },
     "execution_count": 22,
     "metadata": {},
     "output_type": "execute_result"
    }
   ],
   "source": [
    "def __eq__(f1,f2):\n",
    "    if len(f1.card_location[0])!=len(f2.card_location[0]):return False\n",
    "    if len(f1.card_location[1])!=len(f2.card_location[1]):return False\n",
    "    #print(\"len:{},{}\".format(len(f1.card_location[0]),len(f1.card_location[1])))\n",
    "    for i in range(2):\n",
    "        for j in range(len(f1.card_location[i])):\n",
    "            first_card = f1.card_location[i][j]\n",
    "            second_card = f2.card_location[i][j]\n",
    "            print(\"type: {},{}\".format(type(first_card),type(second_card)))\n",
    "            if  not first_card==second_card:\n",
    "                return False\n",
    "    \n",
    "    return True\n",
    "__eq__(field1,field2)"
   ]
  },
  {
   "cell_type": "code",
   "execution_count": 33,
   "metadata": {},
   "outputs": [
    {
     "data": {
      "text/plain": [
       "[('Bob', 85), ('Alice', 65), ('Chris', 40)]"
      ]
     },
     "execution_count": 33,
     "metadata": {},
     "output_type": "execute_result"
    }
   ],
   "source": [
    "TEST = [(\"Alice\",65),(\"Bob\",85),(\"Chris\",40)]\n",
    "sorted(TEST,key= lambda element:-element[1])"
   ]
  },
  {
   "cell_type": "code",
   "execution_count": 34,
   "metadata": {},
   "outputs": [
    {
     "data": {
      "text/plain": [
       "[0, 1, 2, 4, 5, 6, 7, 8]"
      ]
     },
     "execution_count": 34,
     "metadata": {},
     "output_type": "execute_result"
    }
   ],
   "source": [
    "A=[0,1,2,3,4,5,6,7,8]\n",
    "A.pop(3)\n",
    "A"
   ]
  },
  {
   "cell_type": "code",
   "execution_count": 2,
   "metadata": {},
   "outputs": [
    {
     "data": {
      "text/plain": [
       "[<card_setting.Creature at 0x7f68d4ce4518>,\n",
       " <card_setting.Creature at 0x7f68d4ce4400>,\n",
       " <card_setting.Creature at 0x7f68d4ce4438>,\n",
       " <card_setting.Creature at 0x7f68d4ce4550>,\n",
       " <card_setting.Creature at 0x7f68d4ce4588>,\n",
       " <card_setting.Creature at 0x7f68d4ce46a0>,\n",
       " <card_setting.Creature at 0x7f68d4ce46d8>,\n",
       " <card_setting.Creature at 0x7f68d4ce4630>]"
      ]
     },
     "execution_count": 2,
     "metadata": {},
     "output_type": "execute_result"
    }
   ],
   "source": [
    "hand=[]\n",
    "for i in range(8):\n",
    "    if i%2==0:\n",
    "        new_follower=Creature(creature_name_to_id[\"Sahaquiel\"])\n",
    "        hand.append(new_follower)\n",
    "    else:\n",
    "        new_follower=Creature(creature_name_to_id[\"Goblin\"])\n",
    "        hand.append(new_follower)\n",
    "hand"
   ]
  },
  {
   "cell_type": "code",
   "execution_count": 3,
   "metadata": {},
   "outputs": [
    {
     "name": "stdout",
     "output_type": "stream",
     "text": [
      "Player 1 's hand\n",
      "====================================================================\n",
      "0 :  name:Sahaquiel                 7/4/4\u001b[0m\n",
      "1 :  name:Goblin                    1/1/2\u001b[0m\n",
      "2 :  name:Sahaquiel                 7/4/4\u001b[0m\n",
      "3 :  name:Goblin                    1/1/2\u001b[0m\n",
      "4 :  name:Sahaquiel                 7/4/4\u001b[0m\n",
      "5 :  name:Goblin                    1/1/2\u001b[0m\n",
      "6 :  name:Sahaquiel                 7/4/4\u001b[0m\n",
      "7 :  name:Goblin                    1/1/2\u001b[0m\n",
      "====================================================================\n",
      "\n",
      "\n",
      "{0: [0, 1, 2, 3, 4, 5, 6], 1: [], 2: [0, 1, 2, 3, 4, 5, 6], 3: [], 4: [0, 1, 2, 3, 4, 5, 6], 5: [], 6: [0, 1, 2, 3, 4, 5, 6], 7: []}\n"
     ]
    }
   ],
   "source": [
    "player = Player(9,first=True)\n",
    "opponent = Player(9,first=False)\n",
    "player.hand=hand\n",
    "f = Field_setting.Field(5)\n",
    "f.players=[player,opponent]\n",
    "player.show_hand()\n",
    "print(f.get_regal_target_dict(player,opponent))"
   ]
  },
  {
   "cell_type": "code",
   "execution_count": 5,
   "metadata": {},
   "outputs": [
    {
     "name": "stdout",
     "output_type": "stream",
     "text": [
      "Help on built-in function index:\n",
      "\n",
      "index(...) method of builtins.list instance\n",
      "    L.index(value, [start, [stop]]) -> integer -- return first index of value.\n",
      "    Raises ValueError if the value is not present.\n",
      "\n"
     ]
    }
   ],
   "source": [
    "help([].index)"
   ]
  },
  {
   "cell_type": "code",
   "execution_count": 10,
   "metadata": {},
   "outputs": [
    {
     "name": "stdin",
     "output_type": "stream",
     "text": [
      "input card_name:  Golyat\n"
     ]
    },
    {
     "name": "stdout",
     "output_type": "stream",
     "text": [
      "hit\n",
      "[4, 3, 4, [], [0, -1], 'Golyat']\n"
     ]
    }
   ],
   "source": [
    "card_name=input(\"input card_name: \")\n",
    "hit_flg=False\n",
    "for key in list(creature_list.keys()):\n",
    "    if creature_list[key][-1]==card_name:\n",
    "        print(\"hit\")\n",
    "        hit_flg=True\n",
    "        print(\"{}\".format(creature_list[key]))\n",
    "        break\n",
    "\n",
    "if not hit_flg:\n",
    "    print(\"{} is not found\".format(card_name))"
   ]
  },
  {
   "cell_type": "code",
   "execution_count": null,
   "metadata": {},
   "outputs": [],
   "source": []
  }
 ],
 "metadata": {
  "kernelspec": {
   "display_name": "Python 3",
   "language": "python",
   "name": "python3"
  },
  "language_info": {
   "codemirror_mode": {
    "name": "ipython",
    "version": 3
   },
   "file_extension": ".py",
   "mimetype": "text/x-python",
   "name": "python",
   "nbconvert_exporter": "python",
   "pygments_lexer": "ipython3",
   "version": "3.6.7"
  }
 },
 "nbformat": 4,
 "nbformat_minor": 4
}
