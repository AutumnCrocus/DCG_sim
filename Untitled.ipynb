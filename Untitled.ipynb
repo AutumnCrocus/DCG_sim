{
 "cells": [
  {
   "cell_type": "code",
   "execution_count": 1,
   "metadata": {},
   "outputs": [
    {
     "name": "stderr",
     "output_type": "stream",
     "text": [
      "usage: ipykernel_launcher.py [-h] [--arg3 ARG3] [-a ARG4] arg1 arg2\n",
      "ipykernel_launcher.py: error: the following arguments are required: arg2\n"
     ]
    },
    {
     "ename": "SystemExit",
     "evalue": "2",
     "output_type": "error",
     "traceback": [
      "An exception has occurred, use %tb to see the full traceback.\n",
      "\u001b[0;31mSystemExit\u001b[0m\u001b[0;31m:\u001b[0m 2\n"
     ]
    },
    {
     "name": "stderr",
     "output_type": "stream",
     "text": [
      "/home/kobayashi/.local/lib/python3.6/site-packages/IPython/core/interactiveshell.py:3333: UserWarning: To exit: use 'exit', 'quit', or Ctrl-D.\n",
      "  warn(\"To exit: use 'exit', 'quit', or Ctrl-D.\", stacklevel=1)\n"
     ]
    }
   ],
   "source": [
    "import argparse\n",
    "\n",
    "parser = argparse.ArgumentParser(description='このプログラムの説明')\n",
    "\n",
    "parser.add_argument('arg1', help='この引数の説明')\n",
    "parser.add_argument('arg2',help='foo')\n",
    "parser.add_argument('--arg3')\n",
    "parser.add_argument('-a','--arg4')\n",
    "\n",
    "args = parser.parse_args()\n",
    "\n",
    "print('arg1='+args.arg1)\n",
    "print('arg2='+args.arg2)\n",
    "print('arg3='+args.arg3)\n",
    "print('arg4='+args.arg4)"
   ]
  },
  {
   "cell_type": "code",
   "execution_count": 22,
   "metadata": {},
   "outputs": [
    {
     "name": "stdout",
     "output_type": "stream",
     "text": [
      "battle\n",
      "battle\n",
      "battle\n",
      "battle\n",
      "battle\n",
      "battle\n",
      "battle\n",
      "battle\n",
      "battle\n",
      "battle\n",
      "battle\n",
      "battle\n",
      "battle\n",
      "battle\n",
      "battle\n",
      "{(0, 0): (0.08795742636535153, 0), (1, 0): (0.32396829049270526, 1), (1, 1): (0.9697332739737216, 2), (2, 0): (0.34096949684854716, 3), (2, 1): (0.2780695988386588, 4), (2, 2): (0.03297129150158218, 5), (3, 0): (0.07513371696104809, 6), (3, 1): (0.8111755570934911, 7), (3, 2): (0.5113939709542181, 8), (3, 3): (0.2518088095312808, 9), (4, 0): (0.04974542939194271, 10), (4, 1): (0.07550473316789152, 11), (4, 2): (0.8406799957109848, 12), (4, 3): (0.8732694355217069, 13), (4, 4): (0.6823761639736998, 14)}\n"
     ]
    }
   ],
   "source": [
    "import copy\n",
    "import random\n",
    "iteration=1\n",
    "same_flg=True\n",
    "Results={} \n",
    "players=[0,1,2,3,4]\n",
    "count=0\n",
    "for policy1_id, player1 in enumerate(players):\n",
    "    P1 = copy.deepcopy(player1)\n",
    "    last_id=len(players)\n",
    "    if same_flg:\n",
    "        last_id=policy1_id\n",
    "    for policy2_id in range(0,last_id+1):\n",
    "        player2=players[policy2_id]\n",
    "        P2 = copy.deepcopy(player2)\n",
    "        for i in range(iteration):\n",
    "            print(\"battle\")\n",
    "            \n",
    "        Results[(policy1_id, policy2_id)] = (random.random(),count)\n",
    "        count+=1\n",
    "print(\"{}\".format(Results))"
   ]
  },
  {
   "cell_type": "code",
   "execution_count": 21,
   "metadata": {},
   "outputs": [
    {
     "name": "stdout",
     "output_type": "stream",
     "text": [
      "[0.9027204047376555, 0.40380829856813993, 0.44842364344790475, 0.5524359044207029, 0.5832866691341955]\n",
      "[0.5961917014318601, 0.002324874437377722, 0.23953534427806333, 0.16863920545318856, 0.16124775539623104]\n",
      "[0.5515763565520952, 0.7604646557219367, 0.5053827015297367, 0.6729437858185107, 0.46153656563472023]\n",
      "[0.4475640955792971, 0.8313607945468114, 0.32705621418148934, 0.6733151352869235, 0.0007117514537948733]\n",
      "[0.41671333086580453, 0.838752244603769, 0.5384634343652798, 0.9992882485462051, 0.4514354514014399]\n"
     ]
    }
   ],
   "source": [
    "if same_flg:\n",
    "    for i in range(5):\n",
    "        row = []\n",
    "        for j in range(0, i + 1):\n",
    "            row.append(Results[(i, j)][0])\n",
    "        for j in range(i+1, len(players)):\n",
    "            row.append(1-Results[(j,i)][0])\n",
    "        print(row)"
   ]
  },
  {
   "cell_type": "code",
   "execution_count": null,
   "metadata": {},
   "outputs": [],
   "source": []
  }
 ],
 "metadata": {
  "kernelspec": {
   "display_name": "Python 3",
   "language": "python",
   "name": "python3"
  },
  "language_info": {
   "codemirror_mode": {
    "name": "ipython",
    "version": 3
   },
   "file_extension": ".py",
   "mimetype": "text/x-python",
   "name": "python",
   "nbconvert_exporter": "python",
   "pygments_lexer": "ipython3",
   "version": "3.6.7"
  }
 },
 "nbformat": 4,
 "nbformat_minor": 4
}
