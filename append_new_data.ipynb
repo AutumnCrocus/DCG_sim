{
 "cells": [
  {
   "cell_type": "code",
   "execution_count": 22,
   "metadata": {},
   "outputs": [
    {
     "name": "stdin",
     "output_type": "stream",
     "text": [
      "input card_id card_name cost: -3;test_spell;10\n"
     ]
    },
    {
     "name": "stdout",
     "output_type": "stream",
     "text": [
      "3\n",
      "card_id:-3\n",
      "card_name:test_spell\n",
      "cost:10\n"
     ]
    },
    {
     "name": "stdin",
     "output_type": "stream",
     "text": [
      "input class trait (spell_boost): NEUTRAL;NONE\n"
     ]
    },
    {
     "name": "stdout",
     "output_type": "stream",
     "text": [
      "class:NEUTRAL\n",
      "trait:NONE\n"
     ]
    },
    {
     "name": "stdin",
     "output_type": "stream",
     "text": [
      "input this data?(y/n) y\n"
     ]
    },
    {
     "name": "stdout",
     "output_type": "stream",
     "text": [
      "input this data\n"
     ]
    }
   ],
   "source": [
    "import csv\n",
    "from card_setting import *\n",
    "def append_new_data_to_card_list(category=None,file_path=None):\n",
    "    assert category in [\"Creature\",\"Spell\",\"Amulet\"] and file_path!=None,\"category:{} path:{}\".format(category,file_path)\n",
    "    if category==\"Creature\":\n",
    "        raw_data=input(\"input card_id card_name cost power toughness ability:\")\n",
    "        raw_data=list(raw_data.split(\";\"))\n",
    "        print(len(raw_data))\n",
    "        print(\"card_id:{}\".format(raw_data[0]))\n",
    "        assert int(raw_data[0]) not in creature_list\n",
    "        print(\"card_name:{}\".format(raw_data[1]))\n",
    "        print(\"cost:{}\".format(raw_data[2]))\n",
    "        print(\"power:{}\".format(raw_data[3]))\n",
    "        print(\"toughness:{}\".format(raw_data[4]))\n",
    "        print(\"ability:{}\".format(raw_data[5]))\n",
    "        class_data=input(\"input class trait (spell_boost):\")\n",
    "        class_data=list(class_data.split(\";\"))\n",
    "        print(\"class:{}\".format(class_data[0]))\n",
    "        print(\"trait:{}\".format(class_data[1]))\n",
    "        if class_data[0]==\"RUNE\":\n",
    "            print(\"spell_boost:{}\".format(class_data[2]))\n",
    "            spell_boost=list(class_data[2].split(\",\"))\n",
    "            spell_boost=[int(i) for i in spell_boost]\n",
    "            class_data=class_data[2]+class_data[0:2]\n",
    "        raw_data=raw_data+class_data\n",
    "            \n",
    "        while True:\n",
    "            decision=input(\"input this data?(y/n)\")\n",
    "            if decision==\"y\":\n",
    "                with open(file_path,\"a\") as f:\n",
    "                    writer = csv.writer(f,delimiter='\\t',lineterminator='\\n')\n",
    "                    writer.writerow(raw_data)\n",
    "                print(\"input this data\")\n",
    "                break\n",
    "            elif decision==\"n\":\n",
    "                print(\"input is canceled\")\n",
    "                break\n",
    "    if category==\"Spell\":\n",
    "        raw_data=input(\"input card_id card_name cost:\")\n",
    "        raw_data=list(raw_data.split(\";\"))\n",
    "        print(len(raw_data))\n",
    "        print(\"card_id:{}\".format(raw_data[0]))\n",
    "        assert int(raw_data[0]) not in spell_list\n",
    "        print(\"card_name:{}\".format(raw_data[1]))\n",
    "        print(\"cost:{}\".format(raw_data[2]))\n",
    "        class_data=input(\"input class trait (spell_boost):\")\n",
    "        class_data=list(class_data.split(\";\"))\n",
    "        print(\"class:{}\".format(class_data[0]))\n",
    "        print(\"trait:{}\".format(class_data[1]))\n",
    "        if class_data[0]==\"RUNE\":\n",
    "            print(\"spell_boost:{}\".format(class_data[2]))\n",
    "            spell_boost=list(class_data[2].split(\",\"))\n",
    "            spell_boost=[int(i) for i in spell_boost]\n",
    "            class_data=class_data[2]+class_data[0:2]\n",
    "        raw_data=raw_data+class_data\n",
    "            \n",
    "        while True:\n",
    "            decision=input(\"input this data?(y/n)\")\n",
    "            if decision==\"y\":\n",
    "                with open(file_path,\"a\") as f:\n",
    "                    writer = csv.writer(f,delimiter='\\t',lineterminator='\\n')\n",
    "                    writer.writerow(raw_data)\n",
    "                print(\"input this data\")\n",
    "                break\n",
    "            elif decision==\"n\":\n",
    "                print(\"input is canceled\")\n",
    "                break\n",
    "    if category==\"Amulet\":\n",
    "        #-1\tEarth Essence\t1\t\t0,0\tRUNE\tEARTH_SIGIL\tFalse\n",
    "        raw_data=input(\"input card_id card_name cost ability:\")\n",
    "        raw_data=list(raw_data.split(\";\"))\n",
    "        print(len(raw_data))\n",
    "        print(\"card_id:{}\".format(raw_data[0]))\n",
    "        assert int(raw_data[0]) not in amulet_list\n",
    "        print(\"card_name:{}\".format(raw_data[1]))\n",
    "        print(\"cost:{}\".format(raw_data[2]))\n",
    "        class_data=input(\"input class trait (spell_boost)\")\n",
    "        class_data=list(class_data.split(\";\"))\n",
    "        print(\"class:{}\".format(class_data[0]))\n",
    "        print(\"trait:{}\".format(class_data[1]))\n",
    "        if class_data[0]==\"RUNE\":\n",
    "            print(\"spell_boost:{}\".format(class_data[2]))\n",
    "            spell_boost=list(class_data[2].split(\",\"))\n",
    "            spell_boost=[int(i) for i in spell_boost]\n",
    "            class_data=class_data[2]+class_data[0:2]\n",
    "        raw_data=raw_data+class_data\n",
    "        count_down_data=input(\"input count_down data:\")\n",
    "        if count_down_data==\"None\":\n",
    "            raw_data=raw_data.append(\"None\")\n",
    "        else:\n",
    "            raw_data=raw_data.append(int(count_down_data))\n",
    "        while True:\n",
    "            decision=input(\"input this data?(y/n)\")\n",
    "            if decision==\"y\":\n",
    "                with open(file_path,\"a\") as f:\n",
    "                    writer = csv.writer(f,delimiter='\\t',lineterminator='\\n')\n",
    "                    writer.writerow(raw_data)\n",
    "                print(\"input this data\")\n",
    "                break\n",
    "            elif decision==\"n\":\n",
    "                print(\"input is canceled\")\n",
    "                break\n",
    "        \n",
    "file_path=\"Card_List_TSV/New-All_Spell_Card_List.tsv\"\n",
    "append_new_data_to_card_list(category=\"Spell\",file_path=file_path)\n",
    "    "
   ]
  },
  {
   "cell_type": "code",
   "execution_count": 9,
   "metadata": {},
   "outputs": [],
   "source": [
    "from card_setting import *\n",
    "with open(\"test_data.tsv\",\"a\") as f:\n",
    "    writer = csv.writer(f,delimiter='\\t',lineterminator='\\n')\n",
    "    data=[1,\"Goblin\",1,1,2,\"\",\"NEUTRAL\",\"NONE\",\"None\"]\n",
    "    writer.writerow(data)\n",
    "    "
   ]
  },
  {
   "cell_type": "code",
   "execution_count": 31,
   "metadata": {},
   "outputs": [],
   "source": [
    "def card_list_2_tsv(card_list,tsv_name):\n",
    "    assert tsv_name!=\"\"\n",
    "    card_category=list(tsv_name.split(\"_\"))[1]\n",
    "    with open(\"Card_List_TSV/\"+tsv_name,\"w\") as f:\n",
    "        writer = csv.writer(f,delimiter='\\t')\n",
    "        for key in list(card_list.keys()):\n",
    "            data=[]\n",
    "            data.append(key)\n",
    "            data.append(card_list[key][-1])\n",
    "            data.append(card_list[key][0])\n",
    "            if card_category==\"Creature\":\n",
    "                data.append(card_list[key][1])\n",
    "                data.append(card_list[key][2])\n",
    "                txt=\"\"\n",
    "                for i,ability in enumerate(card_list[key][3]):\n",
    "                    if i==0:\n",
    "                        txt+=\"{}\".format(ability)\n",
    "                    else:\n",
    "                        txt+=\",{}\".format(ability)\n",
    "                data.append(txt)\n",
    "                if len(card_list[key][4])==3:\n",
    "                    txt=\"{},{}\".format(int(card_list[key][4][1][0]),int(len(card_list[key][4][1])==2 and card_list[key][4][1][1]==True))\n",
    "                    data.append(txt)\n",
    "                data.append(LeaderClass(int(card_list[key][4][0])).name)\n",
    "                data.append(Trait(int(card_list[key][4][-1])).name)\n",
    "            if card_category==\"Spell\":\n",
    "                txt=\"\"\n",
    "                if len(card_list[key][1])==3:\n",
    "                    txt=\"{},{}\".format(int(card_list[key][1][1][0]),int(len(card_list[key][1][1])==2 and card_list[key][1][1][1]==True))\n",
    "                    data.append(txt)\n",
    "                data.append(LeaderClass(int(card_list[key][1][0])).name)\n",
    "                data.append(Trait(int(card_list[key][1][-1])).name)\n",
    "            if card_category==\"Amulet\":\n",
    "                txt=\"\"\n",
    "                for i,ability in enumerate(card_list[key][1]):\n",
    "                    if i==0:\n",
    "                        txt+=\"{}\".format(ability)\n",
    "                    else:\n",
    "                        txt+=\",{}\".format(ability)\n",
    "                data.append(txt)\n",
    "                if len(card_list[key][2])==3:\n",
    "                    txt=\"{},{}\".format(int(card_list[key][2][1][0]),int(len(card_list[key][2][1])==2 and card_list[key][2][1][1]==True))\n",
    "                    data.append(txt)\n",
    "                data.append(LeaderClass(int(card_list[key][2][0])).name)\n",
    "                data.append(Trait(int(card_list[key][2][-1])).name)\n",
    "                if card_list[key][3]==False:\n",
    "                    data.append(\"False\")\n",
    "                else:\n",
    "                    data.append(card_list[key][3])\n",
    "            \n",
    "            writer.writerow(data)\n",
    "                    \n",
    "                        \n",
    "\n",
    "    return \n",
    "\n",
    "#card_list_2_tsv(creature_list,\"New-All_Creature_Card_List.tsv\")"
   ]
  },
  {
   "cell_type": "code",
   "execution_count": 27,
   "metadata": {},
   "outputs": [],
   "source": [
    "card_list_2_tsv(spell_list,\"New-All_Spell_Card_List.tsv\")"
   ]
  },
  {
   "cell_type": "code",
   "execution_count": 32,
   "metadata": {},
   "outputs": [],
   "source": [
    "card_list_2_tsv(amulet_list,\"New-All_Amulet_Card_List.tsv\")"
   ]
  },
  {
   "cell_type": "code",
   "execution_count": null,
   "metadata": {},
   "outputs": [],
   "source": []
  }
 ],
 "metadata": {
  "kernelspec": {
   "display_name": "Python 3",
   "language": "python",
   "name": "python3"
  },
  "language_info": {
   "codemirror_mode": {
    "name": "ipython",
    "version": 3
   },
   "file_extension": ".py",
   "mimetype": "text/x-python",
   "name": "python",
   "nbconvert_exporter": "python",
   "pygments_lexer": "ipython3",
   "version": "3.6.7"
  }
 },
 "nbformat": 4,
 "nbformat_minor": 4
}
